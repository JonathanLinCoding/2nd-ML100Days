{
 "cells": [
  {
   "cell_type": "markdown",
   "metadata": {},
   "source": [
    "# 作業一\n",
    "\n",
    "\n",
    "請上 Kaggle, 在 Competitions 或 Dataset 中找一組競賽或資料並寫下：\n",
    "\n",
    "    [Google Play Store Apps] : https://www.kaggle.com/lava18/google-play-store-apps\n",
    "1. 你選的這組資料為何重要\n",
    "\n",
    "    * smartphone app是現在的市場趨勢\n",
    "    \n",
    "2. 資料從何而來 (tips: 譬如提供者是誰、以什麼方式蒐集)\n",
    "\n",
    "    * 使用JQuery取得googleplay動態加載的資料\n",
    "    \n",
    "3. 蒐集而來的資料型態為何\n",
    "\n",
    "    * CSV\n",
    "    \n",
    "4. 這組資料想解決的問題如何評估\n",
    "\n",
    "    * The Play Store apps data has enormous potential to drive app-making businesses to success. \n",
    "      Actionable insights can be drawn for developers to work on and capture the Android market!\n",
    "   \n",
    "    \n",
    "# 作業二\n",
    "\n",
    "想像你經營一個自由載客車隊，你希望能透過數據分析以提升業績，請你思考並描述你如何規劃整體的分析/解決方案：\n",
    "\n",
    "1. 核心問題為何 (tips：如何定義 「提升業績 & 你的假設」)\n",
    "    \n",
    "    * 好的顧客體驗 & 車輛客群的配置\n",
    "    * 分析客群呼叫位置，給予快速的呼叫與乘坐體驗，能被顧客更加信賴\n",
    "\n",
    "2. 資料從何而來 (tips：哪些資料可能會對你想問的問題產生影響 & 資料如何蒐集)\n",
    "\n",
    "    * 天氣 : 可參照天氣預報與在車隊資料庫增加天氣紀錄\n",
    "    * 路況 : 可參照路況app或廣播進行資料蒐集\n",
    "\n",
    "3. 蒐集而來的資料型態為何\n",
    "    \n",
    "    * 天氣 : 時間、天氣狀況、地點、客流\n",
    "    * 路況 : 年月、星期幾、節日、天氣狀況、地點、時間、額外資訊\n",
    "\n",
    "4. 你要回答的問題，其如何評估 (tips：你的假設如何驗證)\n",
    "\n",
    "    * 在車隊控端不斷的紀錄每日各時間點的狀況，並分析司機合適度，主要客群位置，以月為單位做分析\n",
    "    \n",
    "    \n",
    "# 統計指標實作範例\n",
    "\n",
    "### 常見於迴歸問題的評估指標\n",
    "\n",
    "    * Mean Absolute Error (MAE)\n",
    "    * Mean Squared Error (MSE)\n",
    "\n",
    "### 常見於分類問題的指標\n",
    "    \n",
    "    *Binary Cross Entropy (CE)\n",
    "    \n",
    "後面的課程還會有更詳細的說明\n"
   ]
  },
  {
   "cell_type": "code",
   "execution_count": 3,
   "metadata": {},
   "outputs": [],
   "source": [
    "import numpy as np\n",
    "import matplotlib.pyplot as plt"
   ]
  },
  {
   "cell_type": "code",
   "execution_count": 5,
   "metadata": {},
   "outputs": [
    {
     "data": {
      "text/plain": [
       "<function matplotlib.pyplot.show(*args, **kw)>"
      ]
     },
     "execution_count": 5,
     "metadata": {},
     "output_type": "execute_result"
    },
    {
     "data": {
      "image/png": "[encoded data removed]",
      "text/plain": [
       "<Figure size 432x288 with 1 Axes>"
      ]
     },
     "metadata": {
      "needs_background": "light"
     },
     "output_type": "display_data"
    }
   ],
   "source": [
    "w = 3\n",
    "b = 0.5\n",
    "\n",
    "x_lin = np.linspace(0,100,101)\n",
    "\n",
    "y = (x_lin + np.random.randn(101) * 5) * w + b\n",
    "\n",
    "plt.plot(x_lin, y, 'b.',label = 'data points')\n",
    "plt.title(\"Assume we have data points\")\n",
    "plt.legend(loc = 2)\n",
    "plt.show"
   ]
  },
  {
   "cell_type": "code",
   "execution_count": 6,
   "metadata": {},
   "outputs": [
    {
     "data": {
      "image/png": "[encoded data removed]",
      "text/plain": [
       "<Figure size 432x288 with 1 Axes>"
      ]
     },
     "metadata": {
      "needs_background": "light"
     },
     "output_type": "display_data"
    }
   ],
   "source": [
    "y_hat = x_lin * w + b\n",
    "plt.plot(x_lin, y, 'b.', label = 'data')\n",
    "plt.plot(x_lin, y_hat, 'r-', label = 'prediction')\n",
    "plt.title(\"Assume we have data points (And the prediction)\")\n",
    "plt.legend(loc = 2)\n",
    "plt.show()"
   ]
  },
  {
   "cell_type": "code",
   "execution_count": 7,
   "metadata": {},
   "outputs": [
    {
     "name": "stdout",
     "output_type": "stream",
     "text": [
      "The Mean absolute error is 12.765\n"
     ]
    }
   ],
   "source": [
    "def mean_absolute_error(y, yp):\n",
    "    \"\"\"\n",
    "    計算 MAE\n",
    "    Args:\n",
    "        - y: 實際值\n",
    "        - yp: 預測值\n",
    "    Return:\n",
    "        - mae: MAE\n",
    "    \"\"\"\n",
    "    mae = MAE = sum(abs(y - yp)) / len(y)\n",
    "    return mae\n",
    "\n",
    "MAE = mean_absolute_error(y, y_hat)\n",
    "print(\"The Mean absolute error is %.3f\" % (MAE))"
   ]
  },
  {
   "cell_type": "markdown",
   "metadata": {},
   "source": [
    "# 練習時間\n",
    "\n",
    "### 請寫一個函式用來計算 Mean Square Error\n",
    "\n",
    "<img  style=\"float:left;\" src=\"https://static.oschina.net/uploads/space/2017/1120/123446_CDn6_2853666.png\"  width=\"50%\">\n"
   ]
  },
  {
   "cell_type": "code",
   "execution_count": 10,
   "metadata": {},
   "outputs": [
    {
     "name": "stdout",
     "output_type": "stream",
     "text": [
      "The Mean absolute error is 256.454\n"
     ]
    }
   ],
   "source": [
    "def mean_Square_Error(y, y_hat):\n",
    "    mse = sum((y - y_hat) ** 2) / len(y)\n",
    "    return mse\n",
    "\n",
    "MSE = mean_Square_Error(y, y_hat)\n",
    "print(\"The Mean absolute error is %.3f\" % (MSE))"
   ]
  }
 ],
 "metadata": {
  "kernelspec": {
   "display_name": "Python 3",
   "language": "python",
   "name": "python3"
  },
  "language_info": {
   "codemirror_mode": {
    "name": "ipython",
    "version": 3
   },
   "file_extension": ".py",
   "mimetype": "text/x-python",
   "name": "python",
   "nbconvert_exporter": "python",
   "pygments_lexer": "ipython3",
   "version": "3.7.2"
  }
 },
 "nbformat": 4,
 "nbformat_minor": 2
}
